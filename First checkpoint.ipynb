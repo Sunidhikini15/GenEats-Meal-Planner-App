{
 "cells": [
  {
   "cell_type": "code",
   "execution_count": 8,
   "id": "43e59f8e",
   "metadata": {},
   "outputs": [],
   "source": [
    "import pandas as pd\n",
    "import json\n",
    "import os\n",
    "\n",
    "# Paths for files\n",
    "file_paths = [\n",
    "    \"FOOD-DATA-GROUP1.csv\",\n",
    "    \"FOOD-DATA-GROUP2.csv\",\n",
    "    \"FOOD-DATA-GROUP3.csv\",\n",
    "    \"FOOD-DATA-GROUP4.csv\",\n",
    "    \"FOOD-DATA-GROUP5.csv\",\n",
    "    \"indian_food.csv\",\n",
    "    \"pred_food.csv\",\n",
    "    \"weight_change_dataset.csv\"\n",
    "]\n"
   ]
  },
  {
   "cell_type": "code",
   "execution_count": 9,
   "id": "f0b4ca80",
   "metadata": {},
   "outputs": [
    {
     "name": "stdout",
     "output_type": "stream",
     "text": [
      "Loaded FOOD-DATA-GROUP1.csv with shape (551, 37)\n",
      "Loaded FOOD-DATA-GROUP2.csv with shape (319, 37)\n",
      "Loaded FOOD-DATA-GROUP3.csv with shape (571, 37)\n",
      "Loaded FOOD-DATA-GROUP4.csv with shape (232, 37)\n",
      "Loaded FOOD-DATA-GROUP5.csv with shape (722, 37)\n",
      "Loaded indian_food.csv with shape (255, 9)\n",
      "Loaded pred_food.csv with shape (502, 13)\n",
      "Loaded weight_change_dataset.csv with shape (100, 13)\n"
     ]
    }
   ],
   "source": [
    "# Step 1: Load datasets\n",
    "dfs = []  # To hold dataframes\n",
    "for file in file_paths:\n",
    "    if os.path.exists(file):  # Check if file exists before loading\n",
    "        try:\n",
    "            df = pd.read_csv(file)  # Load CSV file into DataFrame\n",
    "            dfs.append(df)  # Add the dataframe to the list\n",
    "            print(f\"Loaded {file} with shape {df.shape}\")  # Log successful load\n",
    "        except Exception as e:\n",
    "            print(f\"Error loading {file}: {e}\")  # Handle any errors during loading\n",
    "    else:\n",
    "        print(f\"File not found: {file}\")  # Notify if file is missing"
   ]
  },
  {
   "cell_type": "code",
   "execution_count": 10,
   "id": "a792ab8c",
   "metadata": {},
   "outputs": [
    {
     "name": "stdout",
     "output_type": "stream",
     "text": [
      "Merged dataset size: (3252, 69)\n"
     ]
    }
   ],
   "source": [
    "# Step 1 (Continued): Merge all datasets into a single DataFrame\n",
    "if dfs:\n",
    "    data = pd.concat(dfs, ignore_index=True)  # Merge all dataframes into one\n",
    "    print(f\"Merged dataset size: {data.shape}\")  # Print the size of merged dataset\n",
    "else:\n",
    "    print(\"No data to merge.\")  # If no data, notify\n"
   ]
  },
  {
   "cell_type": "code",
   "execution_count": 13,
   "id": "59915bb4",
   "metadata": {},
   "outputs": [],
   "source": [
    "# Step 2: Handle missing values and text conversion\n",
    "data.fillna(\"Unknown\", inplace=True)  # Replace missing values with placeholder \"Unknown\"\n"
   ]
  },
  {
   "cell_type": "code",
   "execution_count": 14,
   "id": "1bc7acd0",
   "metadata": {},
   "outputs": [],
   "source": [
    "# Convert categorical columns (strings) to lowercase and strip extra spaces\n",
    "for col in data.select_dtypes(include=['object']).columns:\n",
    "    data[col] = data[col].astype(str).str.lower().str.strip()  # Clean text data\n"
   ]
  },
  {
   "cell_type": "code",
   "execution_count": 15,
   "id": "c9ff80cd",
   "metadata": {},
   "outputs": [
    {
     "name": "stdout",
     "output_type": "stream",
     "text": [
      "Preprocessed data saved at processed_food_data1.jsonl\n"
     ]
    }
   ],
   "source": [
    "# Step 3: Convert to JSONL format for Ollama\n",
    "jsonl_path = \"processed_food_data1.jsonl\"  # Path to save the JSONL file\n",
    "with open(jsonl_path, \"w\") as f:\n",
    "    for record in data.to_dict(orient=\"records\"):  # Convert each row to dictionary\n",
    "        f.write(json.dumps(record) + \"\\n\")  # Write to JSONL file\n",
    "\n",
    "print(f\"Preprocessed data saved at {jsonl_path}\")  # Notify where the data was saved"
   ]
  },
  {
   "cell_type": "code",
   "execution_count": null,
   "id": "e9357bd7",
   "metadata": {},
   "outputs": [],
   "source": []
  }
 ],
 "metadata": {
  "kernelspec": {
   "display_name": "Python 3 (ipykernel)",
   "language": "python",
   "name": "python3"
  },
  "language_info": {
   "codemirror_mode": {
    "name": "ipython",
    "version": 3
   },
   "file_extension": ".py",
   "mimetype": "text/x-python",
   "name": "python",
   "nbconvert_exporter": "python",
   "pygments_lexer": "ipython3",
   "version": "3.11.4"
  }
 },
 "nbformat": 4,
 "nbformat_minor": 5
}
